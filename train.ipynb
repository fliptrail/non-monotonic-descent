{
 "cells": [
  {
   "cell_type": "code",
   "execution_count": 1,
   "source": [
    "%load_ext autoreload\n",
    "%autoreload 1\n",
    "import tensorflow as tf\n",
    "import numpy as np\n",
    "import matplotlib.pylab as plt\n",
    "%aimport mlp\n",
    "from mlp import mlp\n",
    "from sklearn.model_selection import train_test_split"
   ],
   "outputs": [],
   "metadata": {}
  },
  {
   "cell_type": "code",
   "execution_count": 2,
   "source": [
    "# load as array of numpy array objects\n",
    "x_data = np.load(\"x_data.npy\", allow_pickle=True)\n",
    "y_data = np.load(\"y_data.npy\", allow_pickle=True)"
   ],
   "outputs": [],
   "metadata": {}
  },
  {
   "cell_type": "code",
   "execution_count": 3,
   "source": [
    "curr_x_data = np.asarray(x_data[0], dtype=np.float64)\n",
    "curr_y_data = np.asarray(y_data[0], dtype=np.float64)\n",
    "x_train_temp, x_test_temp, y_train, y_test = train_test_split(curr_x_data, curr_y_data, test_size=0.2)\n",
    "x_train = np.pad((x_train_temp.reshape(x_train_temp.shape[0], 1)), pad_width=[(0, 0), (0, 99)], mode='edge')\n",
    "x_test = np.pad((x_test_temp.reshape(x_test_temp.shape[0], 1)), pad_width=[(0, 0), (0, 99)], mode='edge')\n",
    "print(x_train.shape)\n",
    "print(y_train.shape)\n",
    "print(x_test.shape)\n",
    "print(y_test.shape)"
   ],
   "outputs": [
    {
     "output_type": "stream",
     "name": "stdout",
     "text": [
      "(15080, 100)\n",
      "(15080,)\n",
      "(3770, 100)\n",
      "(3770,)\n"
     ]
    }
   ],
   "metadata": {}
  },
  {
   "cell_type": "code",
   "execution_count": 4,
   "source": [
    "model = mlp(100).model\n",
    "print(model.summary())"
   ],
   "outputs": [
    {
     "output_type": "stream",
     "name": "stdout",
     "text": [
      "Model: \"mlp\"\n",
      "_________________________________________________________________\n",
      "Layer (type)                 Output Shape              Param #   \n",
      "=================================================================\n",
      "input_1 (InputLayer)         [(None, 100)]             0         \n",
      "_________________________________________________________________\n",
      "dense (Dense)                (None, 1)                 101       \n",
      "=================================================================\n",
      "Total params: 101\n",
      "Trainable params: 101\n",
      "Non-trainable params: 0\n",
      "_________________________________________________________________\n",
      "None\n"
     ]
    }
   ],
   "metadata": {}
  },
  {
   "cell_type": "code",
   "execution_count": 20,
   "source": [
    "loss = tf.keras.losses.MeanSquaredError()\n",
    "optimizer = tf.keras.optimizers.Adam()\n",
    "\n",
    "model.compile(loss=loss, optimizer=optimizer)"
   ],
   "outputs": [],
   "metadata": {}
  },
  {
   "cell_type": "code",
   "execution_count": 22,
   "source": [
    "history = model.fit(x_train, y_train, validation_data=(x_test, y_test), batch_size=100, epochs=10)"
   ],
   "outputs": [
    {
     "output_type": "stream",
     "name": "stdout",
     "text": [
      "Epoch 1/10\n",
      "1508/1508 [==============================] - 4s 2ms/step - loss: 0.5014 - val_loss: 0.4942\n",
      "Epoch 2/10\n",
      "1508/1508 [==============================] - 4s 2ms/step - loss: 0.5014 - val_loss: 0.4942\n",
      "Epoch 3/10\n",
      "1508/1508 [==============================] - 3s 2ms/step - loss: 0.5014 - val_loss: 0.4942\n",
      "Epoch 4/10\n",
      "1508/1508 [==============================] - 4s 3ms/step - loss: 0.5014 - val_loss: 0.4942\n",
      "Epoch 5/10\n",
      "1508/1508 [==============================] - 4s 2ms/step - loss: 0.5014 - val_loss: 0.4942\n",
      "Epoch 6/10\n",
      "1508/1508 [==============================] - 4s 2ms/step - loss: 0.5014 - val_loss: 0.4942\n",
      "Epoch 7/10\n",
      "1508/1508 [==============================] - 3s 2ms/step - loss: 0.5014 - val_loss: 0.4942\n",
      "Epoch 8/10\n",
      "1508/1508 [==============================] - 3s 2ms/step - loss: 0.5014 - val_loss: 0.4942\n",
      "Epoch 9/10\n",
      "1508/1508 [==============================] - 3s 2ms/step - loss: 0.5014 - val_loss: 0.4942\n",
      "Epoch 10/10\n",
      "1508/1508 [==============================] - 3s 2ms/step - loss: 0.5014 - val_loss: 0.4942\n"
     ]
    }
   ],
   "metadata": {}
  },
  {
   "cell_type": "code",
   "execution_count": 40,
   "source": [
    "x_train = np.pad((x_train_temp.reshape(x_train_temp.shape[0], 1)), pad_width=[(0, 0), (0, 99999)], mode='edge')\n",
    "x_test = np.pad((x_test_temp.reshape(x_test_temp.shape[0], 1)), pad_width=[(0, 0), (0, 99999)], mode='edge')"
   ],
   "outputs": [],
   "metadata": {}
  },
  {
   "cell_type": "code",
   "execution_count": 43,
   "source": [
    "model = mlp(100000).model\n",
    "print(model.summary())\n",
    "model.compile(loss=loss, optimizer=optimizer)\n",
    "history = model.fit(x_train, y_train, validation_data=(x_test, y_test), batch_size=1, epochs=10)"
   ],
   "outputs": [
    {
     "output_type": "stream",
     "name": "stdout",
     "text": [
      "Model: \"mlp\"\n",
      "_________________________________________________________________\n",
      "Layer (type)                 Output Shape              Param #   \n",
      "=================================================================\n",
      "input_19 (InputLayer)        [(None, 100000)]          0         \n",
      "_________________________________________________________________\n",
      "dense_18 (Dense)             (None, 1)                 100001    \n",
      "=================================================================\n",
      "Total params: 100,001\n",
      "Trainable params: 100,001\n",
      "Non-trainable params: 0\n",
      "_________________________________________________________________\n",
      "None\n",
      "Epoch 1/10\n",
      "15080/15080 [==============================] - 43s 3ms/step - loss: 64848.2734 - val_loss: 2.2243\n",
      "Epoch 2/10\n",
      "15080/15080 [==============================] - 42s 3ms/step - loss: 53167.9141 - val_loss: 3269.1982\n",
      "Epoch 3/10\n",
      "15080/15080 [==============================] - 40s 3ms/step - loss: 75336.5781 - val_loss: 0.5395\n",
      "Epoch 4/10\n",
      "15080/15080 [==============================] - 40s 3ms/step - loss: 58520.5508 - val_loss: 2596.9666\n",
      "Epoch 5/10\n",
      "15080/15080 [==============================] - 39s 3ms/step - loss: 80254.9844 - val_loss: 0.5174\n",
      "Epoch 6/10\n",
      "15080/15080 [==============================] - 38s 3ms/step - loss: 59080.5078 - val_loss: 0.5001\n",
      "Epoch 7/10\n",
      "15080/15080 [==============================] - 40s 3ms/step - loss: 78719.5938 - val_loss: 393802.8438\n",
      "Epoch 8/10\n",
      "15080/15080 [==============================] - 39s 3ms/step - loss: 79779.6406 - val_loss: 0.5319\n",
      "Epoch 9/10\n",
      "15080/15080 [==============================] - 41s 3ms/step - loss: 84743.5000 - val_loss: 0.5900\n",
      "Epoch 10/10\n",
      "15080/15080 [==============================] - 40s 3ms/step - loss: 60646.1172 - val_loss: 0.5739\n"
     ]
    }
   ],
   "metadata": {}
  },
  {
   "cell_type": "code",
   "execution_count": 44,
   "source": [
    "model = mlp(100000).model\n",
    "print(model.summary())\n",
    "model.compile(loss=loss, optimizer=optimizer)\n",
    "history = model.fit(x_train, y_train, validation_data=(x_test, y_test), batch_size=100, epochs=10)"
   ],
   "outputs": [
    {
     "output_type": "stream",
     "name": "stdout",
     "text": [
      "Model: \"mlp\"\n",
      "_________________________________________________________________\n",
      "Layer (type)                 Output Shape              Param #   \n",
      "=================================================================\n",
      "input_20 (InputLayer)        [(None, 100000)]          0         \n",
      "_________________________________________________________________\n",
      "dense_19 (Dense)             (None, 1)                 100001    \n",
      "=================================================================\n",
      "Total params: 100,001\n",
      "Trainable params: 100,001\n",
      "Non-trainable params: 0\n",
      "_________________________________________________________________\n",
      "None\n",
      "Epoch 1/10\n",
      "151/151 [==============================] - 4s 28ms/step - loss: 109418.2812 - val_loss: 1.5951\n",
      "Epoch 2/10\n",
      "151/151 [==============================] - 3s 17ms/step - loss: 0.5213 - val_loss: 0.4738\n",
      "Epoch 3/10\n",
      "151/151 [==============================] - 3s 18ms/step - loss: 0.4887 - val_loss: 0.4716\n",
      "Epoch 4/10\n",
      "151/151 [==============================] - 3s 17ms/step - loss: 0.4821 - val_loss: 0.4686\n",
      "Epoch 5/10\n",
      "151/151 [==============================] - 3s 17ms/step - loss: 0.4927 - val_loss: 0.4983\n",
      "Epoch 6/10\n",
      "151/151 [==============================] - 3s 19ms/step - loss: 0.4846 - val_loss: 0.4728\n",
      "Epoch 7/10\n",
      "151/151 [==============================] - 3s 19ms/step - loss: 0.4986 - val_loss: 0.4857\n",
      "Epoch 8/10\n",
      "151/151 [==============================] - 3s 18ms/step - loss: 0.5061 - val_loss: 0.4710\n",
      "Epoch 9/10\n",
      "151/151 [==============================] - 3s 22ms/step - loss: 0.4941 - val_loss: 0.4827\n",
      "Epoch 10/10\n",
      "151/151 [==============================] - 4s 23ms/step - loss: 0.4987 - val_loss: 0.5821\n"
     ]
    }
   ],
   "metadata": {}
  },
  {
   "cell_type": "code",
   "execution_count": null,
   "source": [],
   "outputs": [],
   "metadata": {}
  }
 ],
 "metadata": {
  "orig_nbformat": 4,
  "language_info": {
   "name": "python",
   "version": "3.9.7",
   "mimetype": "text/x-python",
   "codemirror_mode": {
    "name": "ipython",
    "version": 3
   },
   "pygments_lexer": "ipython3",
   "nbconvert_exporter": "python",
   "file_extension": ".py"
  },
  "kernelspec": {
   "name": "python3",
   "display_name": "Python 3.9.7 64-bit ('periodic': conda)"
  },
  "interpreter": {
   "hash": "36c61cfefb7c0281a0e01a896607e068121f300765dab6004d7d739b8b05ff06"
  }
 },
 "nbformat": 4,
 "nbformat_minor": 2
}